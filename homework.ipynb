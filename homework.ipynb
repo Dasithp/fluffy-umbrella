{
 "cells": [
  {
   "cell_type": "code",
   "execution_count": 2,
   "metadata": {
    "collapsed": false
   },
   "outputs": [],
   "source": [
    "def kmercounter(filename,n):\n",
    "    \"\"\"Counts and prints kmers of n length in a specified file. \"\"\"\n",
    "    \n",
    "    \n",
    "    file=open(filename)  #Defining file as opening the file specified in the script\n",
    "    \n",
    "    \n",
    "    counter={}  #a variable for counting, with empty dictionary\n",
    "\n",
    "    for line_number,line in enumerate(file):\n",
    "        \"\"\"assigns a line number for each line in file\"\"\"\n",
    "        if line_number%4==1: #selects only lines with sequence data\n",
    "            line=line.rstrip() #strips the newline from each line\n",
    "            numofkmers = len(line)-n #defining the variable numofkmers as each line\n",
    "    \n",
    "            for i in range(numofkmers):\n",
    "                \"\"\"assign i as an individual character/base in line\"\"\"\n",
    "                kmer=line[i:i+n] #defining kmer as base to length specified in kmercounter  \n",
    "            \n",
    "            \n",
    "                if kmer not in counter: #if the defined kmer from above is not in counter add to counter\n",
    "                    counter[kmer] = 0\n",
    "                counter[kmer] += 1\n",
    "            \n",
    "    return counter\n",
    "            \n",
    "                 \n",
    "         "
   ]
  },
  {
   "cell_type": "code",
   "execution_count": 116,
   "metadata": {
    "collapsed": false
   },
   "outputs": [
    {
     "name": "stdout",
     "output_type": "stream",
     "text": [
      "Untitled.ipynb  Untitled2.ipynb Untitled4.ipynb Untitled6.ipynb sample.fastq\r\n",
      "Untitled1.ipynb Untitled3.ipynb Untitled5.ipynb homework.ipynb  surveys.csv\r\n"
     ]
    }
   ],
   "source": [
    "!ls"
   ]
  },
  {
   "cell_type": "code",
   "execution_count": 3,
   "metadata": {
    "collapsed": false
   },
   "outputs": [
    {
     "data": {
      "text/plain": [
       "{'A': 2498, 'C': 2527, 'G': 2461, 'T': 2414}"
      ]
     },
     "execution_count": 3,
     "metadata": {},
     "output_type": "execute_result"
    }
   ],
   "source": [
    "kmercounter(\"sample.fastq\", 1)"
   ]
  },
  {
   "cell_type": "code",
   "execution_count": null,
   "metadata": {
    "collapsed": true
   },
   "outputs": [],
   "source": []
  }
 ],
 "metadata": {
  "anaconda-cloud": {},
  "kernelspec": {
   "display_name": "Python [default]",
   "language": "python",
   "name": "python3"
  },
  "language_info": {
   "codemirror_mode": {
    "name": "ipython",
    "version": 3
   },
   "file_extension": ".py",
   "mimetype": "text/x-python",
   "name": "python",
   "nbconvert_exporter": "python",
   "pygments_lexer": "ipython3",
   "version": "3.5.2"
  }
 },
 "nbformat": 4,
 "nbformat_minor": 1
}
