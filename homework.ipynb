{
 "cells": [
  {
   "cell_type": "code",
   "execution_count": 5,
   "metadata": {
    "collapsed": false
   },
   "outputs": [
    {
     "name": "stdout",
     "output_type": "stream",
     "text": [
      "  % Total    % Received % Xferd  Average Speed   Time    Time     Time  Current\n",
      "                                 Dload  Upload   Total   Spent    Left  Speed\n",
      "100 21190  100 21190    0     0  18613      0  0:00:01  0:00:01 --:--:--  209k\n"
     ]
    }
   ],
   "source": [
    "!curl -O http://rachelss.github.io/Bioinformatics/sample.fastq\n",
    "         "
   ]
  },
  {
   "cell_type": "code",
   "execution_count": 6,
   "metadata": {
    "collapsed": false
   },
   "outputs": [],
   "source": [
    "def kmercounter(filename,n):\n",
    "    \"\"\"Counts and prints kmers of n length in a specified file. \"\"\"\n",
    "    \n",
    "    \n",
    "    file=open(filename)  #Defining file as opening the file specified in the script\n",
    "    \n",
    "    \n",
    "    counter={}  #a variable for counting, with empty dictionary\n",
    "\n",
    "    for line_number,line in enumerate(file):\n",
    "        \"\"\"assigns a line number for each line in file\"\"\"\n",
    "        if line_number%4==1: #selects only lines with sequence data\n",
    "            line=line.rstrip() #strips the newline from each line\n",
    "            numofkmers = len(line)-n #defining the variable numofkmers as each line minus the kmer length to avoid truncated kmers \n",
    "    \n",
    "            for i in range(numofkmers):\n",
    "                \"\"\"assign i as an individual character/base in line\"\"\"\n",
    "                kmer=line[i:i+n] #defining kmer as base to length specified in kmercounter  \n",
    "            \n",
    "            \n",
    "                if kmer not in counter: #if the defined kmer from above is not in counter\n",
    "                    counter[kmer] = 0 # Add kmer to dictionary, if it is not there\n",
    "                counter[kmer] += 1 # increment the counter for dictionary\n",
    "            \n",
    "    return counter  #return the final counts\n",
    "            \n",
    "                 "
   ]
  },
  {
   "cell_type": "code",
   "execution_count": 7,
   "metadata": {
    "collapsed": false
   },
   "outputs": [
    {
     "data": {
      "text/plain": [
       "{'A': 2498, 'C': 2527, 'G': 2461, 'T': 2414}"
      ]
     },
     "execution_count": 7,
     "metadata": {},
     "output_type": "execute_result"
    }
   ],
   "source": [
    "kmercounter(\"sample.fastq\", 1)"
   ]
  },
  {
   "cell_type": "code",
   "execution_count": 8,
   "metadata": {
    "collapsed": false
   },
   "outputs": [
    {
     "data": {
      "text/plain": [
       "{'AA': 628,\n",
       " 'AC': 656,\n",
       " 'AG': 622,\n",
       " 'AT': 569,\n",
       " 'CA': 632,\n",
       " 'CC': 626,\n",
       " 'CG': 621,\n",
       " 'CT': 629,\n",
       " 'GA': 627,\n",
       " 'GC': 615,\n",
       " 'GG': 572,\n",
       " 'GT': 619,\n",
       " 'TA': 585,\n",
       " 'TC': 610,\n",
       " 'TG': 616,\n",
       " 'TT': 573}"
      ]
     },
     "execution_count": 8,
     "metadata": {},
     "output_type": "execute_result"
    }
   ],
   "source": [
    "kmercounter(\"sample.fastq\", 2)"
   ]
  },
  {
   "cell_type": "code",
   "execution_count": 9,
   "metadata": {
    "collapsed": false
   },
   "outputs": [
    {
     "data": {
      "text/plain": [
       "{'AAA': 156,\n",
       " 'AAC': 171,\n",
       " 'AAG': 152,\n",
       " 'AAT': 140,\n",
       " 'ACA': 171,\n",
       " 'ACC': 164,\n",
       " 'ACG': 143,\n",
       " 'ACT': 174,\n",
       " 'AGA': 145,\n",
       " 'AGC': 155,\n",
       " 'AGG': 143,\n",
       " 'AGT': 175,\n",
       " 'ATA': 139,\n",
       " 'ATC': 138,\n",
       " 'ATG': 140,\n",
       " 'ATT': 146,\n",
       " 'CAA': 144,\n",
       " 'CAC': 166,\n",
       " 'CAG': 169,\n",
       " 'CAT': 149,\n",
       " 'CCA': 166,\n",
       " 'CCC': 136,\n",
       " 'CCG': 155,\n",
       " 'CCT': 166,\n",
       " 'CGA': 166,\n",
       " 'CGC': 161,\n",
       " 'CGG': 146,\n",
       " 'CGT': 143,\n",
       " 'CTA': 155,\n",
       " 'CTC': 162,\n",
       " 'CTG': 175,\n",
       " 'CTT': 128,\n",
       " 'GAA': 165,\n",
       " 'GAC': 160,\n",
       " 'GAG': 150,\n",
       " 'GAT': 146,\n",
       " 'GCA': 151,\n",
       " 'GCC': 155,\n",
       " 'GCG': 164,\n",
       " 'GCT': 137,\n",
       " 'GGA': 149,\n",
       " 'GGC': 138,\n",
       " 'GGG': 132,\n",
       " 'GGT': 145,\n",
       " 'GTA': 146,\n",
       " 'GTC': 157,\n",
       " 'GTG': 163,\n",
       " 'GTT': 145,\n",
       " 'TAA': 154,\n",
       " 'TAC': 153,\n",
       " 'TAG': 146,\n",
       " 'TAT': 128,\n",
       " 'TCA': 137,\n",
       " 'TCC': 168,\n",
       " 'TCG': 154,\n",
       " 'TCT': 147,\n",
       " 'TGA': 163,\n",
       " 'TGC': 151,\n",
       " 'TGG': 148,\n",
       " 'TGT': 143,\n",
       " 'TTA': 138,\n",
       " 'TTC': 147,\n",
       " 'TTG': 134,\n",
       " 'TTT': 147}"
      ]
     },
     "execution_count": 9,
     "metadata": {},
     "output_type": "execute_result"
    }
   ],
   "source": [
    "kmercounter(\"sample.fastq\", 3)"
   ]
  },
  {
   "cell_type": "code",
   "execution_count": null,
   "metadata": {
    "collapsed": true
   },
   "outputs": [],
   "source": []
  }
 ],
 "metadata": {
  "anaconda-cloud": {},
  "kernelspec": {
   "display_name": "Python [default]",
   "language": "python",
   "name": "python3"
  },
  "language_info": {
   "codemirror_mode": {
    "name": "ipython",
    "version": 3
   },
   "file_extension": ".py",
   "mimetype": "text/x-python",
   "name": "python",
   "nbconvert_exporter": "python",
   "pygments_lexer": "ipython3",
   "version": "3.5.2"
  }
 },
 "nbformat": 4,
 "nbformat_minor": 1
}
